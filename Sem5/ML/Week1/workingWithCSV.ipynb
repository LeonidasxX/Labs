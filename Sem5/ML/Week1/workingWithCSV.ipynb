{
 "cells": [
  {
   "cell_type": "code",
   "execution_count": 4,
   "id": "6a92dcbb",
   "metadata": {},
   "outputs": [],
   "source": [
    "import csv\n",
    "import pandas"
   ]
  },
  {
   "cell_type": "code",
   "execution_count": 2,
   "id": "14ca3b0d",
   "metadata": {},
   "outputs": [
    {
     "name": "stdout",
     "output_type": "stream",
     "text": [
      "['Title1', 'Title2', 'Title3']\n",
      "['one', 'two', 'three']\n",
      "['example1', 'example2', 'example3']\n"
     ]
    }
   ],
   "source": [
    "with open('./firstCsv.csv') as f:\n",
    "    data = csv.reader(f)\n",
    "    for row in data:\n",
    "        print(row)"
   ]
  },
  {
   "cell_type": "code",
   "execution_count": 13,
   "id": "c8a7b894",
   "metadata": {},
   "outputs": [],
   "source": [
    "with open('./firstCsv.csv',mode='w') as f:\n",
    "    writer = csv.writer(f,delimiter=',', quotechar='\"', quoting=csv.QUOTE_MINIMAL)\n",
    "    writer.writerow(['ques1','ques2','ques3'])\n",
    "    writer.writerow(['a1','a2','a3'])"
   ]
  },
  {
   "cell_type": "code",
   "execution_count": 9,
   "id": "bd41fa60",
   "metadata": {},
   "outputs": [
    {
     "name": "stdout",
     "output_type": "stream",
     "text": [
      "{'ques1': 'a1', 'ques2': 'a2', 'ques3': 'a3'}\n"
     ]
    }
   ],
   "source": [
    "reader = csv.DictReader(open('./firstCsv.csv','rt'))\n",
    "for raw in reader:\n",
    "    print(raw)"
   ]
  },
  {
   "cell_type": "code",
   "execution_count": 5,
   "id": "9d7b8c42",
   "metadata": {},
   "outputs": [],
   "source": [
    "result = pandas.read_csv('./firstCsv.csv')"
   ]
  },
  {
   "cell_type": "code",
   "execution_count": 6,
   "id": "602c562e",
   "metadata": {},
   "outputs": [
    {
     "name": "stdout",
     "output_type": "stream",
     "text": [
      "     Title1    Title2    Title3\n",
      "0       one       two     three\n",
      "1  example1  example2  example3\n"
     ]
    }
   ],
   "source": [
    "print(result)"
   ]
  },
  {
   "cell_type": "code",
   "execution_count": 12,
   "id": "87dd37e0",
   "metadata": {},
   "outputs": [
    {
     "name": "stdout",
     "output_type": "stream",
     "text": [
      "  Programming Language         Designed By Appeared Extension\n",
      "0               Python    Guido Van Rossam     1991       .py\n",
      "1                 Java       James Gosling     1995     .java\n",
      "2                  C++  Bjorne Stroupstrup     1985      .cpp\n"
     ]
    }
   ],
   "source": [
    "from pandas import DataFrame\n",
    "C={'Programming Language':['Python','Java','C++'],\n",
    "    'Designed By':['Guido Van Rossam', 'James Gosling', 'Bjorne Stroupstrup'],\n",
    "  'Appeared':['1991','1995','1985'],\n",
    "  'Extension':['.py','.java','.cpp'],}\n",
    "df = DataFrame(C,columns=['Programming Language','Designed By','Appeared','Extension'])\n",
    "export_csv = df.to_csv(r'/home/AIML_Student/Desktop/210962040/Week1/usingDict.csv',index=None,header=True)\n",
    "print(df)"
   ]
  },
  {
   "cell_type": "code",
   "execution_count": null,
   "id": "a03812a0",
   "metadata": {},
   "outputs": [],
   "source": []
  }
 ],
 "metadata": {
  "kernelspec": {
   "display_name": "Python 3 (ipykernel)",
   "language": "python",
   "name": "python3"
  },
  "language_info": {
   "codemirror_mode": {
    "name": "ipython",
    "version": 3
   },
   "file_extension": ".py",
   "mimetype": "text/x-python",
   "name": "python",
   "nbconvert_exporter": "python",
   "pygments_lexer": "ipython3",
   "version": "3.10.6"
  }
 },
 "nbformat": 4,
 "nbformat_minor": 5
}
