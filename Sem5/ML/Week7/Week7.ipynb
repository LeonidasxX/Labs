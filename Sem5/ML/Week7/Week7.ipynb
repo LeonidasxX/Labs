{
 "cells": [
  {
   "cell_type": "code",
   "execution_count": 91,
   "id": "018eb54e",
   "metadata": {},
   "outputs": [],
   "source": [
    "import pandas as pd\n",
    "import numpy as np\n",
    "import matplotlib.pyplot as plt\n",
    "from sklearn.linear_model import LogisticRegression\n",
    "from sklearn.metrics import accuracy_score, log_loss"
   ]
  },
  {
   "cell_type": "code",
   "execution_count": 92,
   "id": "29ce1451",
   "metadata": {},
   "outputs": [
    {
     "data": {
      "text/html": [
       "<div>\n",
       "<style scoped>\n",
       "    .dataframe tbody tr th:only-of-type {\n",
       "        vertical-align: middle;\n",
       "    }\n",
       "\n",
       "    .dataframe tbody tr th {\n",
       "        vertical-align: top;\n",
       "    }\n",
       "\n",
       "    .dataframe thead th {\n",
       "        text-align: right;\n",
       "    }\n",
       "</style>\n",
       "<table border=\"1\" class=\"dataframe\">\n",
       "  <thead>\n",
       "    <tr style=\"text-align: right;\">\n",
       "      <th></th>\n",
       "      <th>X1</th>\n",
       "      <th>X2</th>\n",
       "      <th>Y</th>\n",
       "    </tr>\n",
       "  </thead>\n",
       "  <tbody>\n",
       "    <tr>\n",
       "      <th>0</th>\n",
       "      <td>2.781084</td>\n",
       "      <td>2.550537</td>\n",
       "      <td>0</td>\n",
       "    </tr>\n",
       "    <tr>\n",
       "      <th>1</th>\n",
       "      <td>1.465489</td>\n",
       "      <td>2.362125</td>\n",
       "      <td>0</td>\n",
       "    </tr>\n",
       "    <tr>\n",
       "      <th>2</th>\n",
       "      <td>3.396562</td>\n",
       "      <td>4.400294</td>\n",
       "      <td>0</td>\n",
       "    </tr>\n",
       "    <tr>\n",
       "      <th>3</th>\n",
       "      <td>1.388070</td>\n",
       "      <td>1.850220</td>\n",
       "      <td>0</td>\n",
       "    </tr>\n",
       "    <tr>\n",
       "      <th>4</th>\n",
       "      <td>3.064072</td>\n",
       "      <td>3.005306</td>\n",
       "      <td>0</td>\n",
       "    </tr>\n",
       "    <tr>\n",
       "      <th>5</th>\n",
       "      <td>7.627531</td>\n",
       "      <td>2.759262</td>\n",
       "      <td>1</td>\n",
       "    </tr>\n",
       "    <tr>\n",
       "      <th>6</th>\n",
       "      <td>5.332441</td>\n",
       "      <td>2.088627</td>\n",
       "      <td>1</td>\n",
       "    </tr>\n",
       "    <tr>\n",
       "      <th>7</th>\n",
       "      <td>6.922597</td>\n",
       "      <td>1.771064</td>\n",
       "      <td>1</td>\n",
       "    </tr>\n",
       "    <tr>\n",
       "      <th>8</th>\n",
       "      <td>8.675419</td>\n",
       "      <td>-0.242070</td>\n",
       "      <td>1</td>\n",
       "    </tr>\n",
       "    <tr>\n",
       "      <th>9</th>\n",
       "      <td>7.673756</td>\n",
       "      <td>3.508563</td>\n",
       "      <td>1</td>\n",
       "    </tr>\n",
       "  </tbody>\n",
       "</table>\n",
       "</div>"
      ],
      "text/plain": [
       "         X1        X2  Y\n",
       "0  2.781084  2.550537  0\n",
       "1  1.465489  2.362125  0\n",
       "2  3.396562  4.400294  0\n",
       "3  1.388070  1.850220  0\n",
       "4  3.064072  3.005306  0\n",
       "5  7.627531  2.759262  1\n",
       "6  5.332441  2.088627  1\n",
       "7  6.922597  1.771064  1\n",
       "8  8.675419 -0.242070  1\n",
       "9  7.673756  3.508563  1"
      ]
     },
     "execution_count": 92,
     "metadata": {},
     "output_type": "execute_result"
    }
   ],
   "source": [
    "db = pd.read_csv('dataset.csv')\n",
    "X = db[['X1', 'X2']]\n",
    "Y = db['Y']\n",
    "db"
   ]
  },
  {
   "cell_type": "code",
   "execution_count": null,
   "id": "59e72161",
   "metadata": {},
   "outputs": [],
   "source": []
  },
  {
   "cell_type": "code",
   "execution_count": 93,
   "id": "908fc345",
   "metadata": {},
   "outputs": [
    {
     "name": "stdout",
     "output_type": "stream",
     "text": [
      "Coefficients are B0 = -4.551633521124653, B1 = 1.183834155636202, B2 = -0.35803502860018704\n"
     ]
    }
   ],
   "source": [
    "#1a\n",
    "model = LogisticRegression()\n",
    "model.fit(X,Y)\n",
    "B0 = model.intercept_[0]\n",
    "B1,B2 = model.coef_[0]\n",
    "print(f\"Coefficients are B0 = {B0}, B1 = {B1}, B2 = {B2}\")"
   ]
  },
  {
   "cell_type": "code",
   "execution_count": 97,
   "id": "41b244ea",
   "metadata": {},
   "outputs": [
    {
     "name": "stdout",
     "output_type": "stream",
     "text": [
      "For X=(2.781084, 2.550537), pred=0, loss=0, predWithRound=0.1022498125742718, error=0.1022498125742718\n",
      "For X=(1.465489, 2.362125), pred=0, loss=0, predWithRound=0.02502684032438537, error=0.02502684032438537\n",
      "For X=(3.396562, 4.400294), pred=0, loss=0, predWithRound=0.10850275313408725, error=0.10850275313408725\n",
      "For X=(1.38807, 1.85022), pred=0, loss=0, predWithRound=0.027362648385509735, error=0.027362648385509735\n",
      "For X=(3.064072, 3.005306), pred=0, loss=0, predWithRound=0.11917297565982612, error=0.11917297565982612\n",
      "For X=(7.627531, 2.759262), pred=1, loss=0, predWithRound=0.970407230498633, error=-0.029592769501367022\n",
      "For X=(5.332441, 2.088627), pred=1, loss=0, predWithRound=0.7336636387683158, error=-0.26633636123168425\n",
      "For X=(6.922597, 1.771064), pred=1, loss=0, predWithRound=0.9530001344329782, error=-0.04699986556702185\n",
      "For X=(8.675419, -0.24207), pred=1, loss=0, predWithRound=0.9969974711350023, error=-0.0030025288649977444\n",
      "For X=(7.673756, 3.508563), pred=1, loss=0, predWithRound=0.9636184093379092, error=-0.03638159066209079\n"
     ]
    }
   ],
   "source": [
    "#1b\n",
    "p = []\n",
    "l = []\n",
    "e = []\n",
    "for i in range(len(X)):\n",
    "    instance = X.iloc[i]\n",
    "    pred = 1/(1+np.exp(-(B0 + B1*instance[0] + B2*instance[1])))\n",
    "    loss = round(pred)-y[i]\n",
    "    error = pred - y[i]\n",
    "    e.append(error)\n",
    "    p.append(round(pred))\n",
    "    l.append(loss)\n",
    "    print(f\"For X={instance[0], instance[1]}, pred={round(pred)}, loss={loss}, predWithRound={pred}, error={error}\")\n"
   ]
  },
  {
   "cell_type": "code",
   "execution_count": 98,
   "id": "e2e6664e",
   "metadata": {},
   "outputs": [
    {
     "name": "stdout",
     "output_type": "stream",
     "text": [
      "100.0\n"
     ]
    }
   ],
   "source": [
    "#1c\n",
    "correct = 0\n",
    "for i in range(len(p)):\n",
    "    if(p[i] == y[i]):\n",
    "        correct += 1\n",
    "        \n",
    "accuracy = (correct/len(p))*100\n",
    "print(accuracy)"
   ]
  },
  {
   "cell_type": "code",
   "execution_count": 100,
   "id": "3d2dc385",
   "metadata": {},
   "outputs": [
    {
     "name": "stdout",
     "output_type": "stream",
     "text": [
      "X1,X2 = (2.781084, 2.550537), Y = 0, pred = 0, loss = 0\n",
      "X1,X2 = (1.465489, 2.362125), Y = 0, pred = 0, loss = 0\n",
      "X1,X2 = (3.396562, 4.400294), Y = 0, pred = 0, loss = 0\n",
      "X1,X2 = (1.38807, 1.85022), Y = 0, pred = 0, loss = 0\n",
      "X1,X2 = (3.064072, 3.005306), Y = 0, pred = 0, loss = 0\n",
      "X1,X2 = (7.627531, 2.759262), Y = 1, pred = 1, loss = 0\n",
      "X1,X2 = (5.332441, 2.088627), Y = 1, pred = 1, loss = 0\n",
      "X1,X2 = (6.922597, 1.771064), Y = 1, pred = 1, loss = 0\n",
      "X1,X2 = (8.675419, -0.24207), Y = 1, pred = 1, loss = 0\n",
      "X1,X2 = (7.673756, 3.508563), Y = 1, pred = 1, loss = 0\n"
     ]
    }
   ],
   "source": [
    "#1d\n",
    "for i in range(len(X)):\n",
    "    a1,a2 = X.iloc[i]\n",
    "    b = y[i]\n",
    "    c = p[i]\n",
    "    d = l[i]\n",
    "    print(f\"X1,X2 = {a1,a2}, Y = {b}, pred = {c}, loss = {d}\")"
   ]
  },
  {
   "cell_type": "code",
   "execution_count": 101,
   "id": "de433831",
   "metadata": {},
   "outputs": [
    {
     "data": {
      "image/png": "[encoded data removed]",
      "text/plain": [
       "<Figure size 432x288 with 1 Axes>"
      ]
     },
     "metadata": {
      "needs_background": "light"
     },
     "output_type": "display_data"
    }
   ],
   "source": [
    "#1e\n",
    "\n",
    "b1_val = np.array(B1)\n",
    "b1_val = np.repeat(b1_val, 10)\n",
    "b2_val = np.array(B2)\n",
    "b2_val = np.repeat(b2_val, 10)\n",
    "plt.plot(b1_val, e)\n",
    "plt.plot(b2_val, e)\n",
    "plt.xlabel('B1 and B2')\n",
    "plt.ylabel('Error')\n",
    "plt.title('B1 & B2 vs. Error')\n",
    "plt.show()"
   ]
  },
  {
   "cell_type": "markdown",
   "id": "c16c33d9",
   "metadata": {},
   "source": [
    "# 2"
   ]
  },
  {
   "cell_type": "code",
   "execution_count": 41,
   "id": "0ae4531d",
   "metadata": {},
   "outputs": [
    {
     "data": {
      "text/html": [
       "<div>\n",
       "<style scoped>\n",
       "    .dataframe tbody tr th:only-of-type {\n",
       "        vertical-align: middle;\n",
       "    }\n",
       "\n",
       "    .dataframe tbody tr th {\n",
       "        vertical-align: top;\n",
       "    }\n",
       "\n",
       "    .dataframe thead th {\n",
       "        text-align: right;\n",
       "    }\n",
       "</style>\n",
       "<table border=\"1\" class=\"dataframe\">\n",
       "  <thead>\n",
       "    <tr style=\"text-align: right;\">\n",
       "      <th></th>\n",
       "      <th>X1</th>\n",
       "      <th>X2</th>\n",
       "      <th>Y</th>\n",
       "    </tr>\n",
       "  </thead>\n",
       "  <tbody>\n",
       "    <tr>\n",
       "      <th>0</th>\n",
       "      <td>2.781084</td>\n",
       "      <td>2.550537</td>\n",
       "      <td>0</td>\n",
       "    </tr>\n",
       "    <tr>\n",
       "      <th>1</th>\n",
       "      <td>1.465489</td>\n",
       "      <td>2.362125</td>\n",
       "      <td>0</td>\n",
       "    </tr>\n",
       "    <tr>\n",
       "      <th>2</th>\n",
       "      <td>3.396562</td>\n",
       "      <td>4.400294</td>\n",
       "      <td>0</td>\n",
       "    </tr>\n",
       "    <tr>\n",
       "      <th>3</th>\n",
       "      <td>1.388070</td>\n",
       "      <td>1.850220</td>\n",
       "      <td>0</td>\n",
       "    </tr>\n",
       "    <tr>\n",
       "      <th>4</th>\n",
       "      <td>3.064072</td>\n",
       "      <td>3.005306</td>\n",
       "      <td>0</td>\n",
       "    </tr>\n",
       "    <tr>\n",
       "      <th>5</th>\n",
       "      <td>7.627531</td>\n",
       "      <td>2.759262</td>\n",
       "      <td>1</td>\n",
       "    </tr>\n",
       "    <tr>\n",
       "      <th>6</th>\n",
       "      <td>5.332441</td>\n",
       "      <td>2.088627</td>\n",
       "      <td>1</td>\n",
       "    </tr>\n",
       "    <tr>\n",
       "      <th>7</th>\n",
       "      <td>6.922597</td>\n",
       "      <td>1.771064</td>\n",
       "      <td>1</td>\n",
       "    </tr>\n",
       "    <tr>\n",
       "      <th>8</th>\n",
       "      <td>8.675419</td>\n",
       "      <td>-0.242070</td>\n",
       "      <td>1</td>\n",
       "    </tr>\n",
       "    <tr>\n",
       "      <th>9</th>\n",
       "      <td>7.673756</td>\n",
       "      <td>3.508563</td>\n",
       "      <td>1</td>\n",
       "    </tr>\n",
       "  </tbody>\n",
       "</table>\n",
       "</div>"
      ],
      "text/plain": [
       "         X1        X2  Y\n",
       "0  2.781084  2.550537  0\n",
       "1  1.465489  2.362125  0\n",
       "2  3.396562  4.400294  0\n",
       "3  1.388070  1.850220  0\n",
       "4  3.064072  3.005306  0\n",
       "5  7.627531  2.759262  1\n",
       "6  5.332441  2.088627  1\n",
       "7  6.922597  1.771064  1\n",
       "8  8.675419 -0.242070  1\n",
       "9  7.673756  3.508563  1"
      ]
     },
     "execution_count": 41,
     "metadata": {},
     "output_type": "execute_result"
    }
   ],
   "source": [
    "db = pd.read_csv('dataset.csv')\n",
    "X = db[['X1']]\n",
    "y = db['Y']\n",
    "db"
   ]
  },
  {
   "cell_type": "code",
   "execution_count": 80,
   "id": "1e36c6bf",
   "metadata": {},
   "outputs": [
    {
     "name": "stdout",
     "output_type": "stream",
     "text": [
      "Coefficients are B0 = -4.551633521124653, B1 = [ 1.18383416 -0.35803503]\n"
     ]
    }
   ],
   "source": [
    "#2a\n",
    "model2 = LogisticRegression()\n",
    "model2.fit(X,y)\n",
    "b0 = model2.intercept_[0]\n",
    "b1 = model2.coef_[0]\n",
    "print(f\"Coefficients are B0 = {b0}, B1 = {b1}\")"
   ]
  },
  {
   "cell_type": "code",
   "execution_count": 86,
   "id": "6adcc9cc",
   "metadata": {},
   "outputs": [
    {
     "name": "stdout",
     "output_type": "stream",
     "text": [
      "2.781084\n",
      "For X1=2.781084, pred=0, loss=0, predWithRound=0.22109591644083587, error=0.22109591644083587\n",
      "1.465489\n",
      "For X1=1.465489, pred=0, loss=0, predWithRound=0.05642638119887166, error=0.05642638119887166\n",
      "3.396562\n",
      "For X1=3.396562, pred=0, loss=0, predWithRound=0.37036123781934, error=0.37036123781934\n",
      "1.38807\n",
      "For X1=1.38807, pred=0, loss=0, predWithRound=0.051740427084389154, error=0.051740427084389154\n",
      "3.064072\n",
      "For X1=3.064072, pred=0, loss=0, predWithRound=0.28408653013274704, error=0.28408653013274704\n",
      "7.627531\n",
      "For X1=7.627531, pred=1, loss=0, predWithRound=0.9887725005661854, error=-0.011227499433814625\n",
      "5.332441\n",
      "For X1=5.332441, pred=1, loss=0, predWithRound=0.85334640622831, error=-0.14665359377168996\n",
      "6.922597\n",
      "For X1=6.922597, pred=1, loss=0, predWithRound=0.9745081292380281, error=-0.025491870761971902\n",
      "8.675419\n",
      "For X1=8.675419, pred=1, loss=0, predWithRound=0.9967265233127391, error=-0.0032734766872608567\n",
      "7.673756\n",
      "For X1=7.673756, pred=1, loss=0, predWithRound=0.9893640325643677, error=-0.010635967435632332\n"
     ]
    }
   ],
   "source": [
    "#2b\n",
    "p = []\n",
    "l = []\n",
    "e = []\n",
    "for i in range(len(X)):\n",
    "    instance = X.iloc[i]\n",
    "    print(instance[0])\n",
    "    pred = 1/(1+np.exp(-(b0 + b1*instance[0])))\n",
    "    loss = round(pred[0])-y[i]\n",
    "    error = pred[0] - y[i]\n",
    "    e.append(error)\n",
    "    p.append(round(pred[0]))\n",
    "    l.append(loss)\n",
    "    print(f\"For X1={instance[0]}, pred={round(pred[0])}, loss={loss}, predWithRound={pred[0]}, error={error}\")"
   ]
  },
  {
   "cell_type": "code",
   "execution_count": 65,
   "id": "bad91645",
   "metadata": {},
   "outputs": [
    {
     "name": "stdout",
     "output_type": "stream",
     "text": [
      "100.0\n"
     ]
    }
   ],
   "source": [
    "#2c\n",
    "correct = 0\n",
    "for i in range(len(p)):\n",
    "    if(p[i] == y[i]):\n",
    "        correct += 1\n",
    "        \n",
    "accuracy = (correct/len(p))*100\n",
    "print(accuracy)"
   ]
  },
  {
   "cell_type": "code",
   "execution_count": 68,
   "id": "59faaf1e",
   "metadata": {},
   "outputs": [
    {
     "name": "stdout",
     "output_type": "stream",
     "text": [
      "X1 = 2.781084, Y = 0, pred = 0, loss = 0\n",
      "X1 = 1.465489, Y = 0, pred = 0, loss = 0\n",
      "X1 = 3.396562, Y = 0, pred = 0, loss = 0\n",
      "X1 = 1.38807, Y = 0, pred = 0, loss = 0\n",
      "X1 = 3.064072, Y = 0, pred = 0, loss = 0\n",
      "X1 = 7.627531, Y = 1, pred = 1, loss = 0\n",
      "X1 = 5.332441, Y = 1, pred = 1, loss = 0\n",
      "X1 = 6.922597, Y = 1, pred = 1, loss = 0\n",
      "X1 = 8.675419, Y = 1, pred = 1, loss = 0\n",
      "X1 = 7.673756, Y = 1, pred = 1, loss = 0\n"
     ]
    }
   ],
   "source": [
    "#2d\n",
    "for i in range(len(X)):\n",
    "    a = X.iloc[i]\n",
    "    b = y[i]\n",
    "    c = p[i]\n",
    "    d = l[i]\n",
    "    print(f\"X1 = {a[0]}, Y = {b}, pred = {c}, loss = {d}\")"
   ]
  },
  {
   "cell_type": "code",
   "execution_count": 84,
   "id": "a1f24c42",
   "metadata": {},
   "outputs": [
    {
     "name": "stdout",
     "output_type": "stream",
     "text": [
      "Error for each instance:\n",
      "[0.09011843087420256, 0.019369574767893347, 0.17394784416907869, 0.01764723237807845, 0.12288607383137673, -0.025899746509124966, -0.3069159761699416, -0.05933640140326113, -0.007307641521217323, -0.024508266556381386]\n"
     ]
    }
   ],
   "source": [
    "print(\"Error for each instance:\")\n",
    "print(e)"
   ]
  },
  {
   "cell_type": "code",
   "execution_count": 77,
   "id": "374dbfb3",
   "metadata": {},
   "outputs": [
    {
     "data": {
      "image/png": "[encoded data removed]",
      "text/plain": [
       "<Figure size 432x288 with 1 Axes>"
      ]
     },
     "metadata": {
      "needs_background": "light"
     },
     "output_type": "display_data"
    }
   ],
   "source": [
    "#2e\n",
    "b1_val = np.array(b1)\n",
    "b1_val = np.repeat(b1_val, 10)\n",
    "plt.plot(b1_val, e)\n",
    "plt.xlabel('B1 and B2')\n",
    "plt.ylabel('Error')\n",
    "plt.title('B1 & B2 vs. Error')\n",
    "plt.show()"
   ]
  },
  {
   "cell_type": "code",
   "execution_count": 83,
   "id": "77855a91",
   "metadata": {},
   "outputs": [
    {
     "name": "stdout",
     "output_type": "stream",
     "text": [
      "Log Error = 0.08306509611955018\n",
      "Accuracy =  100.00%\n"
     ]
    }
   ],
   "source": [
    "#2g\n",
    "y_pred = model2.predict(X)\n",
    "y_prob = model2.predict_proba(X)[:,1]\n",
    "error = log_loss(y,y_prob)\n",
    "print(f\"Log Error = {error}\")\n",
    "\n",
    "accuracy = accuracy_score(y, y_pred)\n",
    "print(f'Accuracy = {accuracy * 100: .2f}%')"
   ]
  },
  {
   "cell_type": "code",
   "execution_count": 73,
   "id": "a6ce4442",
   "metadata": {},
   "outputs": [
    {
     "name": "stdout",
     "output_type": "stream",
     "text": [
      "Coefficients (B0, B1, B2) after SGD = (0.025086971764223174, 1.3684274845285613, -0.41982002261272605)\n",
      "Error (Log Loss) = 0.2430264114809134\n",
      "Accuracy after SGD = 100.00%\n"
     ]
    },
    {
     "data": {
      "image/png": "[encoded data removed]",
      "text/plain": [
       "<Figure size 432x288 with 1 Axes>"
      ]
     },
     "metadata": {
      "needs_background": "light"
     },
     "output_type": "display_data"
    },
    {
     "name": "stdout",
     "output_type": "stream",
     "text": [
      "Accuracy using scikit-learn = 100.00%\n"
     ]
    }
   ],
   "source": [
    "#3\n",
    "\n",
    "\n",
    "\n",
    "import pandas as pd\n",
    "import numpy as np\n",
    "import matplotlib.pyplot as plt\n",
    "from sklearn.linear_model import LogisticRegression\n",
    "from sklearn.metrics import accuracy_score, log_loss\n",
    "from sklearn.preprocessing import StandardScaler\n",
    "\n",
    "\n",
    "data = pd.read_csv(\"dataset.csv\")\n",
    "X = data[['X1', 'X2']]\n",
    "y = data['Y']\n",
    "\n",
    "\n",
    "#3a\n",
    "scaler = StandardScaler()\n",
    "X_scaled = scaler.fit_transform(X)\n",
    "np.random.seed(0)\n",
    "B0 = 0\n",
    "B1 = 0\n",
    "B2 = 0\n",
    "learning_rate = 0.01\n",
    "n_iterations = 50\n",
    "n_samples = len(X_scaled)\n",
    "epoch_accuracy = []\n",
    "\n",
    "def sigmoid(z):\n",
    "    return 1 / (1 + np.exp(-z))\n",
    "\n",
    "for iteration in range(n_iterations):\n",
    "    epoch_accuracy.append(accuracy_score(y, (sigmoid(B0 + B1 * X_scaled[:, 0] + B2 * X_scaled[:, 1]) >= 0.5).astype(int)))\n",
    "    for i in range(n_samples):\n",
    "        prediction = sigmoid(B0 + B1 * X_scaled[i, 0] + B2 * X_scaled[i, 1])\n",
    "        error = y[i] - prediction\n",
    "        B0 += learning_rate * error\n",
    "        B1 += learning_rate * error * X_scaled[i, 0]\n",
    "        B2 += learning_rate * error * X_scaled[i, 1]\n",
    "\n",
    "print(f\"Coefficients (B0, B1, B2) after SGD = ({B0}, {B1}, {B2})\")\n",
    "\n",
    "\n",
    "#3b\n",
    "y_pred_prob = sigmoid(B0 + B1 * X_scaled[:, 0] + B2 * X_scaled[:, 1])\n",
    "error = log_loss(y, y_pred_prob)\n",
    "print(f\"Error (Log Loss) = {error}\")\n",
    "\n",
    "\n",
    "#3c\n",
    "accuracy = accuracy_score(y, (y_pred_prob >= 0.5).astype(int))\n",
    "print(f\"Accuracy after SGD = {accuracy * 100:.2f}%\")\n",
    "\n",
    "\n",
    "#3d\n",
    "plt.plot(range(1, n_iterations + 1), epoch_accuracy)\n",
    "plt.xlabel('Epoch')\n",
    "plt.ylabel('Accuracy')\n",
    "plt.title('Epoch vs. Accuracy')\n",
    "plt.show()\n",
    "\n",
    "\n",
    "#3f\n",
    "lr = LogisticRegression(solver='lbfgs')\n",
    "lr.fit(X_scaled, y)\n",
    "sklearn_accuracy = accuracy_score(y, lr.predict(X_scaled))\n",
    "print(f\"Accuracy using scikit-learn = {sklearn_accuracy * 100:.2f}%\")\n"
   ]
  },
  {
   "cell_type": "code",
   "execution_count": null,
   "id": "74d80638",
   "metadata": {},
   "outputs": [],
   "source": []
  }
 ],
 "metadata": {
  "kernelspec": {
   "display_name": "Python 3 (ipykernel)",
   "language": "python",
   "name": "python3"
  },
  "language_info": {
   "codemirror_mode": {
    "name": "ipython",
    "version": 3
   },
   "file_extension": ".py",
   "mimetype": "text/x-python",
   "name": "python",
   "nbconvert_exporter": "python",
   "pygments_lexer": "ipython3",
   "version": "3.10.12"
  }
 },
 "nbformat": 4,
 "nbformat_minor": 5
}
