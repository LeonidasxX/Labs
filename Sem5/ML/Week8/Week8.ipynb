{
 "cells": [
  {
   "cell_type": "markdown",
   "id": "56b06821",
   "metadata": {},
   "source": [
    "# 1"
   ]
  },
  {
   "cell_type": "code",
   "execution_count": 8,
   "id": "cde6a6eb",
   "metadata": {},
   "outputs": [],
   "source": [
    "# 1a\n",
    "def bayesTheorem(pA, pB, pBA):\n",
    "    return pA * pBA / pB"
   ]
  },
  {
   "cell_type": "code",
   "execution_count": 9,
   "id": "6e98dd32",
   "metadata": {},
   "outputs": [
    {
     "name": "stdout",
     "output_type": "stream",
     "text": [
      "0.6923076923076923\n"
     ]
    }
   ],
   "source": [
    "pHostel = 0.6\n",
    "pDay = 0.4\n",
    "pAHostel = 0.3\n",
    "pADay = 0.2\n",
    "pA = pHostel * pAHostel + pDay * pADay\n",
    "pHostelA = bayesTheorem(pHostel,pA, pAHostel)\n",
    "print(pHostelA)"
   ]
  },
  {
   "cell_type": "code",
   "execution_count": 10,
   "id": "f53abbf6",
   "metadata": {},
   "outputs": [
    {
     "name": "stdout",
     "output_type": "stream",
     "text": [
      "0.3333333333333333\n"
     ]
    }
   ],
   "source": [
    "# 1b\n",
    "# let e1 be has disease and e2 means no disease\n",
    "pe1 = 0.01\n",
    "pe2 = 0.99\n",
    "\n",
    "pTruee1 = 0.99\n",
    "pTruee2 = 0.02\n",
    "\n",
    "pTrue = pe1 * pTruee1 + pe2 * pTruee2\n",
    "pe1True = bayesTheorem(pe1, pTrue, pTruee1)\n",
    "print(pe1True)"
   ]
  },
  {
   "cell_type": "code",
   "execution_count": 11,
   "id": "002e1c86",
   "metadata": {},
   "outputs": [
    {
     "name": "stdout",
     "output_type": "stream",
     "text": [
      "0.425\n"
     ]
    }
   ],
   "source": [
    "# Example\n",
    "pRain = 0.2\n",
    "pCloudy = 0.4\n",
    "pCloudyRain = 0.85\n",
    "\n",
    "print(bayesTheorem(pRain, pCloudy, pCloudyRain))"
   ]
  },
  {
   "cell_type": "markdown",
   "id": "872cb41b",
   "metadata": {},
   "source": [
    "# 2"
   ]
  },
  {
   "cell_type": "code",
   "execution_count": 12,
   "id": "f01ea6ad",
   "metadata": {},
   "outputs": [],
   "source": [
    "import pandas as pd"
   ]
  },
  {
   "cell_type": "code",
   "execution_count": 14,
   "id": "78d0fef7",
   "metadata": {},
   "outputs": [
    {
     "data": {
      "text/html": [
       "<div>\n",
       "<style scoped>\n",
       "    .dataframe tbody tr th:only-of-type {\n",
       "        vertical-align: middle;\n",
       "    }\n",
       "\n",
       "    .dataframe tbody tr th {\n",
       "        vertical-align: top;\n",
       "    }\n",
       "\n",
       "    .dataframe thead th {\n",
       "        text-align: right;\n",
       "    }\n",
       "</style>\n",
       "<table border=\"1\" class=\"dataframe\">\n",
       "  <thead>\n",
       "    <tr style=\"text-align: right;\">\n",
       "      <th></th>\n",
       "      <th>Outlook</th>\n",
       "      <th>Play</th>\n",
       "    </tr>\n",
       "  </thead>\n",
       "  <tbody>\n",
       "    <tr>\n",
       "      <th>0</th>\n",
       "      <td>Rainy</td>\n",
       "      <td>Yes</td>\n",
       "    </tr>\n",
       "    <tr>\n",
       "      <th>1</th>\n",
       "      <td>Sunny</td>\n",
       "      <td>Yes</td>\n",
       "    </tr>\n",
       "    <tr>\n",
       "      <th>2</th>\n",
       "      <td>Overcast</td>\n",
       "      <td>Yes</td>\n",
       "    </tr>\n",
       "    <tr>\n",
       "      <th>3</th>\n",
       "      <td>Overcast</td>\n",
       "      <td>Yes</td>\n",
       "    </tr>\n",
       "    <tr>\n",
       "      <th>4</th>\n",
       "      <td>Sunny</td>\n",
       "      <td>No</td>\n",
       "    </tr>\n",
       "    <tr>\n",
       "      <th>5</th>\n",
       "      <td>Rainy</td>\n",
       "      <td>Yes</td>\n",
       "    </tr>\n",
       "    <tr>\n",
       "      <th>6</th>\n",
       "      <td>Sunny</td>\n",
       "      <td>Yes</td>\n",
       "    </tr>\n",
       "    <tr>\n",
       "      <th>7</th>\n",
       "      <td>Overcast</td>\n",
       "      <td>Yes</td>\n",
       "    </tr>\n",
       "    <tr>\n",
       "      <th>8</th>\n",
       "      <td>Rainy</td>\n",
       "      <td>No</td>\n",
       "    </tr>\n",
       "    <tr>\n",
       "      <th>9</th>\n",
       "      <td>Sunny</td>\n",
       "      <td>No</td>\n",
       "    </tr>\n",
       "    <tr>\n",
       "      <th>10</th>\n",
       "      <td>Sunny</td>\n",
       "      <td>Yes</td>\n",
       "    </tr>\n",
       "    <tr>\n",
       "      <th>11</th>\n",
       "      <td>Rainy</td>\n",
       "      <td>No</td>\n",
       "    </tr>\n",
       "    <tr>\n",
       "      <th>12</th>\n",
       "      <td>Overcast</td>\n",
       "      <td>Yes</td>\n",
       "    </tr>\n",
       "    <tr>\n",
       "      <th>13</th>\n",
       "      <td>Overcast</td>\n",
       "      <td>Yes</td>\n",
       "    </tr>\n",
       "  </tbody>\n",
       "</table>\n",
       "</div>"
      ],
      "text/plain": [
       "     Outlook Play\n",
       "0      Rainy  Yes\n",
       "1      Sunny  Yes\n",
       "2   Overcast  Yes\n",
       "3   Overcast  Yes\n",
       "4      Sunny   No\n",
       "5      Rainy  Yes\n",
       "6      Sunny  Yes\n",
       "7   Overcast  Yes\n",
       "8      Rainy   No\n",
       "9      Sunny   No\n",
       "10     Sunny  Yes\n",
       "11     Rainy   No\n",
       "12  Overcast  Yes\n",
       "13  Overcast  Yes"
      ]
     },
     "execution_count": 14,
     "metadata": {},
     "output_type": "execute_result"
    }
   ],
   "source": [
    "data = pd.read_csv('data.csv')\n",
    "data"
   ]
  },
  {
   "cell_type": "code",
   "execution_count": 17,
   "id": "856631e9",
   "metadata": {},
   "outputs": [],
   "source": [
    "X = data['Outlook']\n",
    "y = data['Play']"
   ]
  },
  {
   "cell_type": "code",
   "execution_count": 29,
   "id": "aa22f2d4",
   "metadata": {},
   "outputs": [
    {
     "name": "stdout",
     "output_type": "stream",
     "text": [
      "0.7142857142857143 0.2857142857142857 10 4\n"
     ]
    }
   ],
   "source": [
    "def priorProb(Y):\n",
    "    y = 0\n",
    "    n = 0\n",
    "    for i in range(len(Y)):\n",
    "        if Y[i]=='Yes':\n",
    "            y += 1\n",
    "        else:\n",
    "            n += 1\n",
    "    return y/len(Y),n/len(Y), y, n\n",
    "\n",
    "\n",
    "pY, pN, t, f = priorProb(y)\n",
    "print(pY, pN, t, f)"
   ]
  },
  {
   "cell_type": "code",
   "execution_count": 31,
   "id": "54b3328a",
   "metadata": {},
   "outputs": [
    {
     "name": "stdout",
     "output_type": "stream",
     "text": [
      "0.2 0.5 0.5 0.0 0.3 0.5 0.2857142857142857 0.35714285714285715 0.35714285714285715\n"
     ]
    }
   ],
   "source": [
    "def likelyHood(X,y,t,f):\n",
    "    ry = 0\n",
    "    rn = 0\n",
    "    oy = 0\n",
    "    on = 0\n",
    "    sy = 0\n",
    "    sn = 0\n",
    "    r = 0\n",
    "    s = 0\n",
    "    o = 0\n",
    "    for i in range(len(X)):\n",
    "        if X[i] == 'Rainy' and y[i] == 'Yes':\n",
    "            ry += 1\n",
    "            r += 1\n",
    "        elif X[i] == 'Rainy' and y[i] == 'No':\n",
    "            rn += 1\n",
    "            r += 1\n",
    "        elif X[i] == 'Overcast' and y[i] == 'Yes':\n",
    "            oy += 1\n",
    "            o += 1\n",
    "        elif X[i] == 'Overcast' and y[i] == 'No':\n",
    "            on += 1\n",
    "            o += 1\n",
    "        elif X[i] == 'Sunny' and y[i] == 'Yes':\n",
    "            sy += 1\n",
    "            s += 1\n",
    "        else:\n",
    "            sn += 1\n",
    "            s += 1\n",
    "    return ry/t, rn/f, oy/t, on/f, sy/t, sn/f, r/len(X), s/len(X), o/len(X)\n",
    "\n",
    "pRY, pRN, pOY, pON, pSY, pSN, r, s, o = likelyHood(X,y,t,f)\n",
    "print(pRY, pRN, pOY, pON, pSY, pSN, r, s, o)"
   ]
  },
  {
   "cell_type": "code",
   "execution_count": 59,
   "id": "f48fc610",
   "metadata": {},
   "outputs": [
    {
     "name": "stdout",
     "output_type": "stream",
     "text": [
      "0.5000000000000001\n",
      "0.5\n",
      "1.0\n",
      "0.0\n",
      "Probabilities for Sunny day\n",
      "0.6\n",
      "0.39999999999999997\n",
      "Since p(yes/rain) > p(no/sunny), we can play the game on a sunny day\n",
      "Play == Yes\n"
     ]
    }
   ],
   "source": [
    "# classifying if weather = sunny player should play or not\n",
    "# for Rainy\n",
    "pYR = bayesTheorem(pY, r, pRY)\n",
    "print(pYR)\n",
    "pNR = bayesTheorem(pN, r, pRN)\n",
    "print(pNR)\n",
    "# for Overcast\n",
    "pYR = bayesTheorem(pY, o, pOY)\n",
    "print(pYR)\n",
    "pNR = bayesTheorem(pN, o, pON)\n",
    "print(pNR)\n",
    "# for Sunny\n",
    "print('Probabilities for Sunny day')\n",
    "pYR = bayesTheorem(pY, s, pSY)\n",
    "print(pYR)\n",
    "pNR = bayesTheorem(pN, s, pSN)\n",
    "print(pNR)\n",
    "if pYR > pNR:\n",
    "    print(\"Since p(yes/rain) > p(no/sunny), we can play the game on a sunny day\")\n",
    "    print(\"Play == Yes\")\n",
    "else:\n",
    "    print(\"Since p(yes/rain) < p(no/sunny), we cannot play the game on a sunny day\")\n",
    "    print('Play == No')"
   ]
  },
  {
   "cell_type": "code",
   "execution_count": 58,
   "id": "4dd29f4f",
   "metadata": {},
   "outputs": [],
   "source": []
  },
  {
   "cell_type": "code",
   "execution_count": 38,
   "id": "961c1f0b",
   "metadata": {},
   "outputs": [],
   "source": [
    "# using sci-kit learn"
   ]
  },
  {
   "cell_type": "code",
   "execution_count": 39,
   "id": "73b02377",
   "metadata": {},
   "outputs": [],
   "source": [
    "from sklearn.feature_extraction.text import CountVectorizer\n",
    "from sklearn.naive_bayes import MultinomialNB\n",
    "from sklearn.metrics import accuracy_score, classification_report\n",
    "from sklearn.model_selection import train_test_split"
   ]
  },
  {
   "cell_type": "code",
   "execution_count": 45,
   "id": "83851bcc",
   "metadata": {},
   "outputs": [],
   "source": [
    "data = pd.read_csv('data.csv')\n",
    "X = data['Outlook']\n",
    "y = data['Play']"
   ]
  },
  {
   "cell_type": "code",
   "execution_count": 53,
   "id": "9edb836a",
   "metadata": {},
   "outputs": [],
   "source": [
    "vectorizer = CountVectorizer()\n",
    "X_vec = vectorizer.fit_transform(X)"
   ]
  },
  {
   "cell_type": "code",
   "execution_count": 47,
   "id": "521e8625",
   "metadata": {},
   "outputs": [
    {
     "data": {
      "text/plain": [
       "MultinomialNB()"
      ]
     },
     "execution_count": 47,
     "metadata": {},
     "output_type": "execute_result"
    }
   ],
   "source": [
    "clf = MultinomialNB()\n",
    "clf.fit(X_vec, y)"
   ]
  },
  {
   "cell_type": "code",
   "execution_count": 54,
   "id": "315c8b1e",
   "metadata": {},
   "outputs": [
    {
     "name": "stdout",
     "output_type": "stream",
     "text": [
      "['Yes' 'Yes' 'Yes' 'Yes' 'Yes' 'Yes' 'Yes' 'Yes' 'Yes' 'Yes' 'Yes' 'Yes'\n",
      " 'Yes' 'Yes']\n"
     ]
    }
   ],
   "source": [
    "y_pred = clf.predict(X_vec)\n",
    "print(y_pred)"
   ]
  },
  {
   "cell_type": "code",
   "execution_count": 55,
   "id": "2994b1b1",
   "metadata": {},
   "outputs": [
    {
     "name": "stdout",
     "output_type": "stream",
     "text": [
      "Accuracy: 0.7142857142857143\n",
      "              precision    recall  f1-score   support\n",
      "\n",
      "          No       0.00      0.00      0.00         4\n",
      "         Yes       0.71      1.00      0.83        10\n",
      "\n",
      "    accuracy                           0.71        14\n",
      "   macro avg       0.36      0.50      0.42        14\n",
      "weighted avg       0.51      0.71      0.60        14\n",
      "\n"
     ]
    }
   ],
   "source": [
    "accuracy = accuracy_score(y, y_pred)\n",
    "report = classification_report(y, y_pred)\n",
    "print(f\"Accuracy: {accuracy}\")\n",
    "print(report)"
   ]
  }
 ],
 "metadata": {
  "kernelspec": {
   "display_name": "Python 3 (ipykernel)",
   "language": "python",
   "name": "python3"
  },
  "language_info": {
   "codemirror_mode": {
    "name": "ipython",
    "version": 3
   },
   "file_extension": ".py",
   "mimetype": "text/x-python",
   "name": "python",
   "nbconvert_exporter": "python",
   "pygments_lexer": "ipython3",
   "version": "3.10.12"
  }
 },
 "nbformat": 4,
 "nbformat_minor": 5
}
