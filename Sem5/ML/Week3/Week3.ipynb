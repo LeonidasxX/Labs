{
 "cells": [
  {
   "cell_type": "code",
   "execution_count": 136,
   "id": "b6aa2631",
   "metadata": {},
   "outputs": [],
   "source": [
    "import pandas as pd\n",
    "import numpy as np\n",
    "import matplotlib.pyplot as plt\n",
    "from sklearn.preprocessing import StandardScaler\n",
    "# from imblearn.over_sampling import RandomOverSampler\n",
    "from sklearn.model_selection import train_test_split"
   ]
  },
  {
   "cell_type": "code",
   "execution_count": 137,
   "id": "9d79e45c",
   "metadata": {
    "scrolled": true
   },
   "outputs": [
    {
     "name": "stdout",
     "output_type": "stream",
     "text": [
      "   age     sex steroid  antivirals fatigue malaise anorexia liver_big  \\\n",
      "0   30    male   False       False   False   False    False     False   \n",
      "1   50  female   False       False    True   False    False     False   \n",
      "2   78  female    True       False    True   False    False      True   \n",
      "3   31  female     NaN        True   False   False    False      True   \n",
      "4   34  female    True       False   False   False    False      True   \n",
      "\n",
      "  liver_firm spleen_palpable spiders ascites varices  bilirubin  \\\n",
      "0      False           False   False   False   False        1.0   \n",
      "1      False           False   False   False   False        0.9   \n",
      "2      False           False   False   False   False        0.7   \n",
      "3      False           False   False   False   False        0.7   \n",
      "4      False           False   False   False   False        1.0   \n",
      "\n",
      "   alk_phosphate   sgot  albumin  protime  histology class  \n",
      "0           85.0   18.0      4.0      NaN      False  live  \n",
      "1          135.0   42.0      3.5      NaN      False  live  \n",
      "2           96.0   32.0      4.0      NaN      False  live  \n",
      "3           46.0   52.0      4.0     80.0      False  live  \n",
      "4            NaN  200.0      4.0      NaN      False  live  \n"
     ]
    }
   ],
   "source": [
    "# cols = ['age', 'sex', 'steroid', 'antivirals', 'fatigue', 'malaise', 'anorexia',\n",
    "#        'liver_big', 'liver_firm', 'spleen_palpable', 'spiders', 'ascites',\n",
    "#        'varices', 'bilirubin', 'alk_phosphate', 'sgot', 'albumin', 'protime',\n",
    "#        'histology', 'class']\n",
    "df = pd.read_csv('./hepatitis_csv.csv')\n",
    "print(df.head())"
   ]
  },
  {
   "cell_type": "code",
   "execution_count": 138,
   "id": "888afe8d",
   "metadata": {},
   "outputs": [
    {
     "name": "stdout",
     "output_type": "stream",
     "text": [
      "Index(['age', 'sex', 'steroid', 'antivirals', 'fatigue', 'malaise', 'anorexia',\n",
      "       'liver_big', 'liver_firm', 'spleen_palpable', 'spiders', 'ascites',\n",
      "       'varices', 'bilirubin', 'alk_phosphate', 'sgot', 'albumin', 'protime',\n",
      "       'histology', 'class'],\n",
      "      dtype='object')\n"
     ]
    }
   ],
   "source": [
    "print(df.columns)"
   ]
  },
  {
   "cell_type": "code",
   "execution_count": 139,
   "id": "b86c5da6",
   "metadata": {},
   "outputs": [
    {
     "name": "stdout",
     "output_type": "stream",
     "text": [
      "Index(['age', 'sex', 'steroid', 'antivirals', 'fatigue', 'malaise', 'anorexia',\n",
      "       'liver_big', 'liver_firm', 'spleen_palpable', 'spiders', 'ascites',\n",
      "       'varices', 'bilirubin', 'alk_phosphate', 'sgot', 'albumin', 'histology',\n",
      "       'class'],\n",
      "      dtype='object')\n"
     ]
    }
   ],
   "source": [
    "df = df.drop(['protime'],axis=1)\n",
    "print(df.columns)"
   ]
  },
  {
   "cell_type": "code",
   "execution_count": 140,
   "id": "2b5bb6af",
   "metadata": {},
   "outputs": [
    {
     "name": "stdout",
     "output_type": "stream",
     "text": [
      "   age     sex steroid  antivirals fatigue malaise anorexia liver_big  \\\n",
      "0   30    male   False       False   False   False    False     False   \n",
      "1   50  female   False       False    True   False    False     False   \n",
      "2   78  female    True       False    True   False    False      True   \n",
      "3   31  female     NaN        True   False   False    False      True   \n",
      "4   34  female    True       False   False   False    False      True   \n",
      "\n",
      "  liver_firm spleen_palpable spiders ascites varices  bilirubin  \\\n",
      "0      False           False   False   False   False        1.0   \n",
      "1      False           False   False   False   False        0.9   \n",
      "2      False           False   False   False   False        0.7   \n",
      "3      False           False   False   False   False        0.7   \n",
      "4      False           False   False   False   False        1.0   \n",
      "\n",
      "   alk_phosphate   sgot  albumin  histology class  \n",
      "0           85.0   18.0      4.0      False  live  \n",
      "1          135.0   42.0      3.5      False  live  \n",
      "2           96.0   32.0      4.0      False  live  \n",
      "3           46.0   52.0      4.0      False  live  \n",
      "4            NaN  200.0      4.0      False  live  \n"
     ]
    }
   ],
   "source": [
    "print(df.head())"
   ]
  },
  {
   "cell_type": "code",
   "execution_count": 141,
   "id": "2790b9f5",
   "metadata": {},
   "outputs": [
    {
     "name": "stdout",
     "output_type": "stream",
     "text": [
      "    age     sex steroid  antivirals fatigue malaise anorexia liver_big  \\\n",
      "0    30    male   False       False   False   False    False     False   \n",
      "1    50  female   False       False    True   False    False     False   \n",
      "2    78  female    True       False    True   False    False      True   \n",
      "5    34  female    True       False   False   False    False      True   \n",
      "10   39  female   False        True   False   False    False     False   \n",
      "\n",
      "   liver_firm spleen_palpable spiders ascites varices  bilirubin  \\\n",
      "0       False           False   False   False   False        1.0   \n",
      "1       False           False   False   False   False        0.9   \n",
      "2       False           False   False   False   False        0.7   \n",
      "5       False           False   False   False   False        0.9   \n",
      "10       True           False   False   False   False        1.3   \n",
      "\n",
      "    alk_phosphate  sgot  albumin  histology class  \n",
      "0            85.0  18.0      4.0      False  live  \n",
      "1           135.0  42.0      3.5      False  live  \n",
      "2            96.0  32.0      4.0      False  live  \n",
      "5            95.0  28.0      4.0      False  live  \n",
      "10           78.0  30.0      4.4      False  live  \n"
     ]
    }
   ],
   "source": [
    "df = df.dropna()\n",
    "print(df.head())"
   ]
  },
  {
   "cell_type": "code",
   "execution_count": 142,
   "id": "d0305b1c",
   "metadata": {},
   "outputs": [
    {
     "name": "stdout",
     "output_type": "stream",
     "text": [
      "    age     sex steroid  antivirals fatigue malaise anorexia liver_big  \\\n",
      "0    30    male   False       False   False   False    False     False   \n",
      "1    50  female   False       False    True   False    False     False   \n",
      "2    78  female    True       False    True   False    False      True   \n",
      "5    34  female    True       False   False   False    False      True   \n",
      "10   39  female   False        True   False   False    False     False   \n",
      "\n",
      "   liver_firm spleen_palpable spiders ascites varices  bilirubin  \\\n",
      "0       False           False   False   False   False        1.0   \n",
      "1       False           False   False   False   False        0.9   \n",
      "2       False           False   False   False   False        0.7   \n",
      "5       False           False   False   False   False        0.9   \n",
      "10       True           False   False   False   False        1.3   \n",
      "\n",
      "    alk_phosphate  sgot  albumin  histology  class  \n",
      "0            85.0  18.0      4.0      False      1  \n",
      "1           135.0  42.0      3.5      False      1  \n",
      "2            96.0  32.0      4.0      False      1  \n",
      "5            95.0  28.0      4.0      False      1  \n",
      "10           78.0  30.0      4.4      False      1  \n"
     ]
    }
   ],
   "source": [
    "df['class'] = (df['class']=='live').astype(int)\n",
    "print(df.head())\n",
    "# df['class'] = pd.get_dummies(df['class'])"
   ]
  },
  {
   "cell_type": "code",
   "execution_count": 143,
   "id": "63721c4f",
   "metadata": {},
   "outputs": [
    {
     "name": "stdout",
     "output_type": "stream",
     "text": [
      "    age  sex steroid  antivirals fatigue malaise anorexia liver_big  \\\n",
      "0    30    1   False       False   False   False    False     False   \n",
      "1    50    0   False       False    True   False    False     False   \n",
      "2    78    0    True       False    True   False    False      True   \n",
      "5    34    0    True       False   False   False    False      True   \n",
      "10   39    0   False        True   False   False    False     False   \n",
      "\n",
      "   liver_firm spleen_palpable spiders ascites varices  bilirubin  \\\n",
      "0       False           False   False   False   False        1.0   \n",
      "1       False           False   False   False   False        0.9   \n",
      "2       False           False   False   False   False        0.7   \n",
      "5       False           False   False   False   False        0.9   \n",
      "10       True           False   False   False   False        1.3   \n",
      "\n",
      "    alk_phosphate  sgot  albumin  histology  class  \n",
      "0            85.0  18.0      4.0      False      1  \n",
      "1           135.0  42.0      3.5      False      1  \n",
      "2            96.0  32.0      4.0      False      1  \n",
      "5            95.0  28.0      4.0      False      1  \n",
      "10           78.0  30.0      4.4      False      1  \n"
     ]
    }
   ],
   "source": [
    "df['sex'] = (df['sex']=='male').astype(int)\n",
    "print(df.head())"
   ]
  },
  {
   "cell_type": "code",
   "execution_count": 144,
   "id": "0a0404df",
   "metadata": {},
   "outputs": [
    {
     "name": "stdout",
     "output_type": "stream",
     "text": [
      "[[30 1 False ... 4.0 False 1]\n",
      " [50 0 False ... 3.5 False 1]\n",
      " [78 0 True ... 4.0 False 1]\n",
      " ...\n",
      " [61 0 False ... 4.1 True 1]\n",
      " [53 1 False ... 4.1 True 1]\n",
      " [43 0 True ... 3.1 True 0]]\n"
     ]
    }
   ],
   "source": [
    "a = df.to_numpy()\n",
    "print(a)"
   ]
  },
  {
   "cell_type": "raw",
   "id": "e96c7aa1",
   "metadata": {},
   "source": []
  },
  {
   "cell_type": "code",
   "execution_count": null,
   "id": "2f94c1d5",
   "metadata": {},
   "outputs": [],
   "source": []
  },
  {
   "cell_type": "code",
   "execution_count": 145,
   "id": "3409b8c6",
   "metadata": {},
   "outputs": [],
   "source": [
    "train, test = np.split(df.sample(frac=1), [int(0.6*len(df))]) #, int(0.8*len(df)"
   ]
  },
  {
   "cell_type": "code",
   "execution_count": 146,
   "id": "27eb349f",
   "metadata": {},
   "outputs": [
    {
     "name": "stdout",
     "output_type": "stream",
     "text": [
      "     age  sex steroid  antivirals fatigue malaise anorexia liver_big  \\\n",
      "10    39    0   False        True   False   False    False     False   \n",
      "57    30    0    True        True   False   False    False      True   \n",
      "50    39    0   False       False   False   False    False      True   \n",
      "95    40    0   False        True    True    True     True     False   \n",
      "87    30    0    True       False    True    True     True      True   \n",
      "..   ...  ...     ...         ...     ...     ...      ...       ...   \n",
      "66    56    0   False       False   False   False    False      True   \n",
      "120   56    0   False       False    True    True     True     False   \n",
      "32    41    1    True        True    True    True     True      True   \n",
      "132   48    0    True       False    True    True     True      True   \n",
      "24    25    1   False        True   False   False    False      True   \n",
      "\n",
      "    liver_firm spleen_palpable spiders ascites varices  bilirubin  \\\n",
      "10        True           False   False   False   False        1.3   \n",
      "57       False           False   False   False   False        0.7   \n",
      "50       False           False   False   False   False        0.9   \n",
      "95        True           False   False   False   False        0.6   \n",
      "87        True           False    True    True    True        2.5   \n",
      "..         ...             ...     ...     ...     ...        ...   \n",
      "66       False           False   False   False   False        0.7   \n",
      "120       True           False    True   False   False        2.9   \n",
      "32       False           False   False   False   False        0.7   \n",
      "132       True           False    True   False   False        2.0   \n",
      "24       False           False   False   False   False        0.4   \n",
      "\n",
      "     alk_phosphate   sgot  albumin  histology  class  \n",
      "10            78.0   30.0      4.4      False      1  \n",
      "57            52.0   38.0      3.9      False      1  \n",
      "50            85.0   60.0      4.0      False      1  \n",
      "95            40.0   69.0      4.2       True      1  \n",
      "87           165.0   64.0      2.8       True      0  \n",
      "..             ...    ...      ...        ...    ...  \n",
      "66            62.0   33.0      3.0      False      1  \n",
      "120           90.0  153.0      4.0       True      0  \n",
      "32            81.0   53.0      5.0      False      1  \n",
      "132          158.0  278.0      3.8       True      1  \n",
      "24            45.0   18.0      4.3      False      1  \n",
      "\n",
      "[67 rows x 19 columns]\n"
     ]
    }
   ],
   "source": [
    "print(train)"
   ]
  },
  {
   "cell_type": "code",
   "execution_count": null,
   "id": "8d09bb31",
   "metadata": {},
   "outputs": [],
   "source": []
  },
  {
   "cell_type": "code",
   "execution_count": 147,
   "id": "d9dc2dc4",
   "metadata": {},
   "outputs": [
    {
     "name": "stdout",
     "output_type": "stream",
     "text": [
      "     age  sex steroid  antivirals fatigue malaise anorexia liver_big  \\\n",
      "70    24    0    True       False   False   False    False      True   \n",
      "114   36    0   False       False   False   False    False      True   \n",
      "40    52    0   False        True   False   False    False      True   \n",
      "62    32    0    True       False    True    True     True      True   \n",
      "90    50    1   False       False    True   False    False     False   \n",
      "134   38    0   False       False   False   False    False      True   \n",
      "60    37    0    True       False   False   False    False      True   \n",
      "63    36    0   False       False   False   False    False     False   \n",
      "111   42    0   False        True    True    True    False      True   \n",
      "149   36    0    True       False   False   False    False      True   \n",
      "137   38    0    True       False   False   False    False      True   \n",
      "15    38    0   False       False    True    True     True      True   \n",
      "47    28    1    True       False    True    True    False      True   \n",
      "5     34    0    True       False   False   False    False      True   \n",
      "124   50    0    True       False   False   False    False      True   \n",
      "79    28    0    True       False   False   False    False      True   \n",
      "112   52    0   False       False    True   False    False      True   \n",
      "143   49    0   False       False    True    True    False      True   \n",
      "61    32    0    True       False   False   False    False      True   \n",
      "45    28    0    True       False    True    True    False      True   \n",
      "26    49    0   False        True    True    True     True      True   \n",
      "2     78    0    True       False    True   False    False      True   \n",
      "130   54    0    True       False   False   False    False      True   \n",
      "34    35    0    True       False    True   False    False      True   \n",
      "30    39    0   False        True    True    True    False      True   \n",
      "152   61    0   False       False    True    True    False     False   \n",
      "42    33    0    True       False   False   False    False      True   \n",
      "103   51    0   False       False    True    True     True      True   \n",
      "21    27    0    True       False    True    True     True     False   \n",
      "104   47    0    True       False    True    True    False      True   \n",
      "145   31    0   False       False    True   False    False      True   \n",
      "13    30    0    True       False    True   False    False      True   \n",
      "51    39    0    True       False   False   False    False      True   \n",
      "88    38    0   False       False    True    True     True      True   \n",
      "121   20    0   False       False    True    True     True      True   \n",
      "11    32    0    True        True    True   False    False      True   \n",
      "81    36    0    True       False   False   False    False      True   \n",
      "113   45    0   False       False    True   False    False      True   \n",
      "37    20    1   False       False    True    True     True     False   \n",
      "0     30    1   False       False   False   False    False     False   \n",
      "119   54    0    True       False    True   False    False     False   \n",
      "43    56    0   False       False    True   False    False      True   \n",
      "128   54    0   False       False    True    True    False      True   \n",
      "85    28    0   False       False    True    True     True      True   \n",
      "23    42    0    True       False   False   False    False      True   \n",
      "\n",
      "    liver_firm spleen_palpable spiders ascites varices  bilirubin  \\\n",
      "70       False           False   False   False   False        0.8   \n",
      "114      False           False   False   False   False        1.1   \n",
      "40       False           False   False   False   False        0.7   \n",
      "62       False           False    True   False    True        3.5   \n",
      "90        True            True    True   False   False        0.9   \n",
      "134       True           False   False   False   False        0.4   \n",
      "60       False           False   False   False   False        0.7   \n",
      "63        True            True   False   False   False        0.7   \n",
      "111      False           False    True   False   False        0.5   \n",
      "149      False           False   False   False   False        0.6   \n",
      "137       True           False    True   False    True        1.6   \n",
      "15       False           False   False    True   False        2.0   \n",
      "47        True           False   False   False   False        1.8   \n",
      "5        False           False   False   False   False        0.9   \n",
      "124       True            True    True   False   False        1.0   \n",
      "79       False           False   False   False   False        0.7   \n",
      "112      False           False   False   False   False        1.0   \n",
      "143      False            True    True   False   False        1.4   \n",
      "61       False           False   False   False   False        0.7   \n",
      "45       False           False   False   False   False        0.7   \n",
      "26        True           False    True   False   False        0.6   \n",
      "2        False           False   False   False   False        0.7   \n",
      "130      False           False   False   False   False        1.0   \n",
      "34       False           False   False   False   False        0.9   \n",
      "30        True           False   False   False   False        2.3   \n",
      "152       True           False    True   False   False        0.8   \n",
      "42       False           False   False   False   False        1.0   \n",
      "103       True            True    True   False    True        4.6   \n",
      "21        True            True    True   False   False        1.2   \n",
      "104       True           False   False    True    True        1.7   \n",
      "145      False           False   False   False   False        1.2   \n",
      "13        True           False   False   False   False        2.2   \n",
      "51       False           False   False   False   False        1.0   \n",
      "88        True           False    True    True    True        1.2   \n",
      "121      False           False    True    True   False        1.0   \n",
      "11        True           False    True   False   False        1.0   \n",
      "81       False           False   False   False   False        0.7   \n",
      "113       True            True   False   False   False        1.2   \n",
      "37        True            True    True   False   False        2.3   \n",
      "0        False           False   False   False   False        1.0   \n",
      "119       True           False   False   False   False        3.2   \n",
      "43       False           False   False   False   False        0.7   \n",
      "128      False           False   False    True   False        1.2   \n",
      "85        True           False   False   False   False        1.6   \n",
      "23       False           False   False   False   False        0.9   \n",
      "\n",
      "     alk_phosphate   sgot  albumin  histology  class  \n",
      "70            82.0   39.0      4.3      False      1  \n",
      "114          141.0   75.0      3.3       True      1  \n",
      "40            75.0   55.0      4.0      False      1  \n",
      "62           215.0   54.0      3.4      False      1  \n",
      "90           230.0  117.0      3.4       True      1  \n",
      "134          243.0   49.0      3.8       True      0  \n",
      "60            26.0   58.0      4.5      False      1  \n",
      "63           164.0   44.0      3.1      False      1  \n",
      "111           62.0   68.0      3.8       True      0  \n",
      "149          120.0   30.0      4.0       True      1  \n",
      "137          130.0  140.0      3.5       True      1  \n",
      "15            72.0   89.0      2.9      False      1  \n",
      "47           191.0  420.0      3.3      False      1  \n",
      "5             95.0   28.0      4.0      False      1  \n",
      "124           85.0   75.0      4.0       True      1  \n",
      "79            85.0   31.0      4.9      False      1  \n",
      "112           85.0   30.0      4.0       True      1  \n",
      "143           85.0   70.0      3.5       True      0  \n",
      "61           102.0   64.0      4.0      False      1  \n",
      "45            74.0  110.0      4.4      False      1  \n",
      "26            85.0   48.0      3.7      False      1  \n",
      "2             96.0   32.0      4.0      False      1  \n",
      "130           85.0   30.0      4.5       True      1  \n",
      "34            58.0   92.0      4.3      False      1  \n",
      "30           280.0   98.0      3.8      False      0  \n",
      "152           75.0   20.0      4.1       True      1  \n",
      "42            46.0   90.0      4.4      False      1  \n",
      "103          215.0  269.0      3.9       True      1  \n",
      "21           133.0   98.0      4.1      False      1  \n",
      "104           86.0   20.0      2.1       True      0  \n",
      "145           75.0  173.0      4.2       True      1  \n",
      "13            57.0  144.0      4.9      False      1  \n",
      "51            85.0   20.0      4.0      False      1  \n",
      "88           118.0   16.0      2.8       True      0  \n",
      "121          160.0  118.0      2.9       True      1  \n",
      "11            59.0  249.0      3.7      False      1  \n",
      "81            62.0  224.0      4.2      False      1  \n",
      "113           81.0   65.0      3.0      False      1  \n",
      "37           150.0   68.0      3.9      False      1  \n",
      "0             85.0   18.0      4.0      False      1  \n",
      "119           85.0   28.0      3.8       True      1  \n",
      "43            71.0   18.0      4.4      False      1  \n",
      "128           85.0   92.0      3.1       True      1  \n",
      "85            44.0  123.0      4.0      False      1  \n",
      "23            60.0   63.0      4.7      False      1  \n"
     ]
    }
   ],
   "source": [
    "print(test)"
   ]
  },
  {
   "cell_type": "code",
   "execution_count": 121,
   "id": "f47d4dcc",
   "metadata": {},
   "outputs": [],
   "source": [
    "# Ques2"
   ]
  },
  {
   "cell_type": "code",
   "execution_count": 124,
   "id": "1cd83013",
   "metadata": {},
   "outputs": [],
   "source": []
  },
  {
   "cell_type": "code",
   "execution_count": 241,
   "id": "4ce70d75",
   "metadata": {},
   "outputs": [],
   "source": [
    "# train, X_train, y_train = scale_dataset(train, oversample=True)\n",
    "# test, X_test, y_test = scale_dataset(test, oversample=True)\n",
    "X = df['age']\n",
    "y = df.iloc[:, -1]\n",
    "# split the dataset\n",
    "X_train, X_test, y_train, y_test = train_test_split(X, y, test_size=0.4, random_state=0)"
   ]
  },
  {
   "cell_type": "code",
   "execution_count": 246,
   "id": "b93ebea0",
   "metadata": {},
   "outputs": [],
   "source": [
    "from sklearn.linear_model import LinearRegression\n",
    "from sklearn.metrics import classification_report"
   ]
  },
  {
   "cell_type": "code",
   "execution_count": 247,
   "id": "027006fa",
   "metadata": {},
   "outputs": [],
   "source": [
    "model = LinearRegression()\n",
    "model = model.fit(np.array(X_train).reshape(-1,1), y_train)"
   ]
  },
  {
   "cell_type": "code",
   "execution_count": 248,
   "id": "864e6940",
   "metadata": {},
   "outputs": [],
   "source": [
    "y_pred = model.predict(np.array(X_test).reshape(-1,1))\n",
    "# print(classification_report(y_test, y_pred))"
   ]
  },
  {
   "cell_type": "code",
   "execution_count": 249,
   "id": "edfc0226",
   "metadata": {},
   "outputs": [
    {
     "name": "stdout",
     "output_type": "stream",
     "text": [
      "predicted response:\n",
      "[0.88466131 0.90022506 0.85872172 0.91060089 0.81721839 0.91060089\n",
      " 0.88984922 0.66158089 0.80684256 0.89503714 0.80165464 0.82240631\n",
      " 0.81721839 0.86909756 0.84834589 0.80684256 0.84834589 0.95210422\n",
      " 0.85353381 0.91060089 0.85353381 0.78609089 0.96248006 0.86909756\n",
      " 0.91060089 0.84834589 0.88984922 0.88984922 0.87947339 0.83797006\n",
      " 0.86909756 0.85353381 0.81203047 0.84315797 0.83278214 0.69270839\n",
      " 0.85872172 0.82240631 0.88984922 0.87428547 0.92616464 0.86909756\n",
      " 0.80684256 0.85872172 0.87947339]\n",
      "-0.01085903613765793\n"
     ]
    }
   ],
   "source": [
    "r_sq = model.score(np.array(X_test).reshape(-1,1), y_test)\n",
    "print(f\"predicted response:\\n{y_pred}\")\n",
    "print(r_sq)"
   ]
  },
  {
   "cell_type": "code",
   "execution_count": 250,
   "id": "d0e6fb00",
   "metadata": {},
   "outputs": [
    {
     "name": "stdout",
     "output_type": "stream",
     "text": [
      "intercept: 1.0662383905835615\n",
      "slope: [-0.00518792]\n",
      "-0.005187916697484231\n"
     ]
    }
   ],
   "source": [
    "print(f\"intercept: {model.intercept_}\")\n",
    "print(f\"slope: {model.coef_}\")\n",
    "intercept = model.intercept_\n",
    "mean = np.mean(model.coef_)\n",
    "print(mean)"
   ]
  },
  {
   "cell_type": "code",
   "execution_count": null,
   "id": "849027e7",
   "metadata": {},
   "outputs": [],
   "source": []
  },
  {
   "cell_type": "code",
   "execution_count": 251,
   "id": "6738385d",
   "metadata": {},
   "outputs": [
    {
     "data": {
      "image/png": "[encoded data removed]",
      "text/plain": [
       "<Figure size 432x288 with 1 Axes>"
      ]
     },
     "metadata": {
      "needs_background": "light"
     },
     "output_type": "display_data"
    }
   ],
   "source": [
    "\n",
    "fig, ax = plt.subplots()\n",
    "# fig.show()\n",
    "ax.plot(X_test,y_pred,color='yellow')\n",
    "ax.scatter(X_test,y_test,color='green')\n",
    "\n",
    "ax.set_xlabel('X')\n",
    "ax.set_ylabel('Y')\n",
    "ax.set_title('title')\n",
    "plt.show()"
   ]
  },
  {
   "cell_type": "code",
   "execution_count": null,
   "id": "88622948",
   "metadata": {},
   "outputs": [],
   "source": []
  },
  {
   "cell_type": "code",
   "execution_count": null,
   "id": "535d93ba",
   "metadata": {},
   "outputs": [],
   "source": []
  }
 ],
 "metadata": {
  "kernelspec": {
   "display_name": "Python 3 (ipykernel)",
   "language": "python",
   "name": "python3"
  },
  "language_info": {
   "codemirror_mode": {
    "name": "ipython",
    "version": 3
   },
   "file_extension": ".py",
   "mimetype": "text/x-python",
   "name": "python",
   "nbconvert_exporter": "python",
   "pygments_lexer": "ipython3",
   "version": "3.10.12"
  }
 },
 "nbformat": 4,
 "nbformat_minor": 5
}
