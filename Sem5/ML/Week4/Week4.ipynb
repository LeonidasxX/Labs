{
 "cells": [
  {
   "cell_type": "code",
   "execution_count": 20,
   "id": "c9cb77aa",
   "metadata": {},
   "outputs": [],
   "source": [
    "import pandas as pd\n",
    "import numpy as np\n",
    "import matplotlib.pyplot as plt"
   ]
  },
  {
   "cell_type": "code",
   "execution_count": 21,
   "id": "8e4e8c03",
   "metadata": {},
   "outputs": [
    {
     "data": {
      "text/html": [
       "<div>\n",
       "<style scoped>\n",
       "    .dataframe tbody tr th:only-of-type {\n",
       "        vertical-align: middle;\n",
       "    }\n",
       "\n",
       "    .dataframe tbody tr th {\n",
       "        vertical-align: top;\n",
       "    }\n",
       "\n",
       "    .dataframe thead th {\n",
       "        text-align: right;\n",
       "    }\n",
       "</style>\n",
       "<table border=\"1\" class=\"dataframe\">\n",
       "  <thead>\n",
       "    <tr style=\"text-align: right;\">\n",
       "      <th></th>\n",
       "      <th>year</th>\n",
       "      <th>price</th>\n",
       "    </tr>\n",
       "  </thead>\n",
       "  <tbody>\n",
       "    <tr>\n",
       "      <th>0</th>\n",
       "      <td>1965</td>\n",
       "      <td>72</td>\n",
       "    </tr>\n",
       "    <tr>\n",
       "      <th>1</th>\n",
       "      <td>1966</td>\n",
       "      <td>84</td>\n",
       "    </tr>\n",
       "    <tr>\n",
       "      <th>2</th>\n",
       "      <td>1967</td>\n",
       "      <td>103</td>\n",
       "    </tr>\n",
       "    <tr>\n",
       "      <th>3</th>\n",
       "      <td>1968</td>\n",
       "      <td>162</td>\n",
       "    </tr>\n",
       "    <tr>\n",
       "      <th>4</th>\n",
       "      <td>1969</td>\n",
       "      <td>176</td>\n",
       "    </tr>\n",
       "  </tbody>\n",
       "</table>\n",
       "</div>"
      ],
      "text/plain": [
       "   year  price\n",
       "0  1965     72\n",
       "1  1966     84\n",
       "2  1967    103\n",
       "3  1968    162\n",
       "4  1969    176"
      ]
     },
     "execution_count": 21,
     "metadata": {},
     "output_type": "execute_result"
    }
   ],
   "source": [
    "df = pd.read_csv('./gold.csv')\n",
    "df.head()"
   ]
  },
  {
   "cell_type": "code",
   "execution_count": 22,
   "id": "70570590",
   "metadata": {
    "scrolled": true
   },
   "outputs": [
    {
     "name": "stdout",
     "output_type": "stream",
     "text": [
      "1993.5 10088.120689655172\n",
      "Slope =  676.7278907379495\n",
      "Intercept =  -1338968.929496447\n",
      "Linear Regression Equation = 676.7278907379495x + -1338968.929496447\n"
     ]
    },
    {
     "data": {
      "image/png": "[encoded data removed]",
      "text/plain": [
       "<Figure size 432x288 with 1 Axes>"
      ]
     },
     "metadata": {
      "needs_background": "light"
     },
     "output_type": "display_data"
    },
    {
     "name": "stdout",
     "output_type": "stream",
     "text": [
      "Prediction for year 2025:\n",
      "31405.04924790049\n",
      "Prediction for 1 gram = 3140.504924790049\n"
     ]
    }
   ],
   "source": [
    "x = df['year']\n",
    "y = df['price']\n",
    "n = np.size(x)\n",
    "x_bar = np.mean(x)\n",
    "y_bar = np.mean(y)\n",
    "print(x_bar, y_bar)\n",
    "nr = np.sum(x*y) - (n * x_bar * y_bar)\n",
    "dr = np.sum(x*x) - (n * x_bar * x_bar)\n",
    "\n",
    "slope = nr/dr\n",
    "c = y_bar - slope * x_bar\n",
    "print(\"Slope = \", slope)\n",
    "print(\"Intercept = \", c)\n",
    "print(\"Linear Regression Equation = {}x + {}\".format(slope, c))\n",
    "\n",
    "plt.scatter(x,y, color='r', marker='o', s = 30)\n",
    "y_pred = slope * x + c\n",
    "plt.plot(x, y_pred, color='b', linewidth=3)\n",
    "plt.xlabel('X')\n",
    "plt.ylabel('y')\n",
    "plt.show()\n",
    "print(\"Prediction for year 2025:\")\n",
    "y_2025 = slope * 2025 + c\n",
    "print(y_2025)\n",
    "print(f\"Prediction for 1 gram = {y_2025/10}\")"
   ]
  },
  {
   "cell_type": "code",
   "execution_count": 23,
   "id": "83dcc2f0",
   "metadata": {},
   "outputs": [],
   "source": [
    "from sklearn.linear_model import LinearRegression\n",
    "from sklearn.metrics import mean_squared_error"
   ]
  },
  {
   "cell_type": "code",
   "execution_count": 24,
   "id": "d3dd11f4",
   "metadata": {},
   "outputs": [
    {
     "name": "stdout",
     "output_type": "stream",
     "text": [
      "Linear Regression Model:\n",
      "Gold Price = 676.7278907379495 * year + -1338968.929496447\n",
      "Gold Price in 2025 = 31405.04924790049\n",
      "Prediction for 1 gram = 3140.504924790049\n"
     ]
    }
   ],
   "source": [
    "df = np.array(df)\n",
    "years = df[:,0].reshape(-1,1)\n",
    "prices = df[:,1]\n",
    "\n",
    "model = LinearRegression()\n",
    "model.fit(years, prices)\n",
    "\n",
    "slope = model.coef_[0]\n",
    "intercept = model.intercept_\n",
    "\n",
    "predict_2025 = model.predict([[2025]])[0]\n",
    "\n",
    "print(\"Linear Regression Model:\")\n",
    "print(f\"Gold Price = {slope} * year + {intercept}\")\n",
    "print(f\"Gold Price in 2025 = {predict_2025}\")\n",
    "print(f\"Prediction for 1 gram = {predict_2025/10}\")"
   ]
  },
  {
   "cell_type": "code",
   "execution_count": 25,
   "id": "39ae3016",
   "metadata": {},
   "outputs": [
    {
     "name": "stdout",
     "output_type": "stream",
     "text": [
      "Mean Squared Error = 62776522.622688085\n",
      "Root Mean Squared Error = 7923.163675116657\n"
     ]
    }
   ],
   "source": [
    "prediction = model.predict(years)\n",
    "mse = mean_squared_error(prices, prediction)\n",
    "rmse = np.sqrt(mse)\n",
    "print(f\"Mean Squared Error = {mse}\")\n",
    "print(f\"Root Mean Squared Error = {rmse}\")"
   ]
  },
  {
   "cell_type": "code",
   "execution_count": 26,
   "id": "e54079a3",
   "metadata": {},
   "outputs": [
    {
     "data": {
      "image/png": "[encoded data removed]",
      "text/plain": [
       "<Figure size 432x288 with 1 Axes>"
      ]
     },
     "metadata": {
      "needs_background": "light"
     },
     "output_type": "display_data"
    }
   ],
   "source": [
    "plt.scatter(years, prices, color='r', label='Actual Price')\n",
    "plt.scatter(years, prediction, color='b', label='Predicted Price')\n",
    "plt.scatter([[2025]],predict_2025, color='g', label='2025 Prediction')\n",
    "plt.title('Actual vs Precited')\n",
    "plt.xlabel('Years')\n",
    "plt.ylabel('Prices')\n",
    "plt.legend()\n",
    "plt.show()"
   ]
  },
  {
   "cell_type": "code",
   "execution_count": null,
   "id": "f9739bcb",
   "metadata": {},
   "outputs": [],
   "source": []
  },
  {
   "cell_type": "code",
   "execution_count": 29,
   "id": "d15758b2",
   "metadata": {},
   "outputs": [
    {
     "data": {
      "text/html": [
       "<div>\n",
       "<style scoped>\n",
       "    .dataframe tbody tr th:only-of-type {\n",
       "        vertical-align: middle;\n",
       "    }\n",
       "\n",
       "    .dataframe tbody tr th {\n",
       "        vertical-align: top;\n",
       "    }\n",
       "\n",
       "    .dataframe thead th {\n",
       "        text-align: right;\n",
       "    }\n",
       "</style>\n",
       "<table border=\"1\" class=\"dataframe\">\n",
       "  <thead>\n",
       "    <tr style=\"text-align: right;\">\n",
       "      <th></th>\n",
       "      <th>year</th>\n",
       "      <th>goldprice</th>\n",
       "      <th>silverprice</th>\n",
       "    </tr>\n",
       "  </thead>\n",
       "  <tbody>\n",
       "    <tr>\n",
       "      <th>0</th>\n",
       "      <td>1981</td>\n",
       "      <td>1800</td>\n",
       "      <td>2715</td>\n",
       "    </tr>\n",
       "    <tr>\n",
       "      <th>1</th>\n",
       "      <td>1982</td>\n",
       "      <td>1645</td>\n",
       "      <td>2720</td>\n",
       "    </tr>\n",
       "    <tr>\n",
       "      <th>2</th>\n",
       "      <td>1983</td>\n",
       "      <td>1800</td>\n",
       "      <td>3105</td>\n",
       "    </tr>\n",
       "    <tr>\n",
       "      <th>3</th>\n",
       "      <td>1984</td>\n",
       "      <td>1970</td>\n",
       "      <td>3570</td>\n",
       "    </tr>\n",
       "    <tr>\n",
       "      <th>4</th>\n",
       "      <td>1985</td>\n",
       "      <td>2130</td>\n",
       "      <td>3955</td>\n",
       "    </tr>\n",
       "  </tbody>\n",
       "</table>\n",
       "</div>"
      ],
      "text/plain": [
       "   year  goldprice  silverprice\n",
       "0  1981       1800         2715\n",
       "1  1982       1645         2720\n",
       "2  1983       1800         3105\n",
       "3  1984       1970         3570\n",
       "4  1985       2130         3955"
      ]
     },
     "execution_count": 29,
     "metadata": {},
     "output_type": "execute_result"
    }
   ],
   "source": [
    "df2 = pd.read_csv('./goldandsilver.csv')\n",
    "df2.head()"
   ]
  },
  {
   "cell_type": "code",
   "execution_count": 53,
   "id": "d8242bf3",
   "metadata": {},
   "outputs": [
    {
     "name": "stdout",
     "output_type": "stream",
     "text": [
      "2001.5 13779.52380952381 20435.261904761905\n",
      "Slope for Gold =  1050.4516651811036\n",
      "Slope for Silver =  1387.5249169435217\n",
      "Intercept =  -4886265.867217676\n",
      "Linear Regression Equation = 1050.4516651811036x1 +1387.5249169435217x2 + -4886265.867217676\n"
     ]
    },
    {
     "data": {
      "image/png": "[encoded data removed]",
      "text/plain": [
       "<Figure size 432x288 with 1 Axes>"
      ]
     },
     "metadata": {
      "needs_background": "light"
     },
     "output_type": "display_data"
    },
    {
     "name": "stdout",
     "output_type": "stream",
     "text": [
      "Prediction for year 2025:\n",
      "-2759101.245225941\n",
      "Prediction for 1 gram = -275910.1245225941\n"
     ]
    }
   ],
   "source": [
    "x = df2['year']\n",
    "y_gold = df2['goldprice']\n",
    "y_silver = df2['silverprice']\n",
    "n = np.size(x)\n",
    "x_bar = np.mean(x)\n",
    "y_gold_bar = np.mean(y_gold)\n",
    "y_silver_bar = np.mean(y_silver)\n",
    "print(x_bar, y_gold_bar, y_silver_bar)\n",
    "nr_gold = np.sum(x*y_gold) - (n * x_bar * y_gold_bar)\n",
    "nr_silver = np.sum(x*y_silver) - (n * x_bar * y_silver_bar)\n",
    "dr = np.sum(x*x) - (n * x_bar * x_bar)\n",
    "\n",
    "slope_gold = nr_gold/dr\n",
    "slope_silver = nr_silver/dr\n",
    "c = y_gold_bar - slope_gold * x_bar - y_silver_bar - slope_silver * x_bar\n",
    "c_silver = y_silver_bar - slope_silver * x_bar\n",
    "print(\"Slope for Gold = \", slope_gold)\n",
    "print(\"Slope for Silver = \", slope_silver)\n",
    "print(\"Intercept = \", c)\n",
    "print(\"Linear Regression Equation = {}x1 +{}x2 + {}\".format(slope_gold, slope_silver, c))\n",
    "\n",
    "plt.scatter(x,y_gold, color='r', marker='o', s = 30)\n",
    "plt.scatter(x,y_silver, color='g', marker='o', s = 30)\n",
    "y_pred_gold = slope_gold * x + c\n",
    "y_pred_silver = slope_silver * x + c\n",
    "plt.plot(x, y_pred_gold, color='b', linewidth=3)\n",
    "plt.plot(x, y_pred_silver, color='g', linewidth=3)\n",
    "plt.xlabel('X')\n",
    "plt.ylabel('y')\n",
    "plt.show()\n",
    "print(\"Prediction for year 2025:\")\n",
    "y_2025 = slope_gold * 2025 + c\n",
    "print(y_2025)\n",
    "print(f\"Prediction for 1 gram = {y_2025/10}\")"
   ]
  },
  {
   "cell_type": "code",
   "execution_count": 36,
   "id": "e82f4a26",
   "metadata": {},
   "outputs": [],
   "source": [
    "data = pd.read_csv('goldandsilver.csv')\n",
    "X = data['year'].values.reshape(-1, 1)\n",
    "y_gold = data['goldprice'].values\n",
    "y_silver = data['silverprice'].values\n",
    "\n",
    "reg_gold = LinearRegression()\n",
    "reg_gold.fit(X, y_gold)\n",
    "\n",
    "reg_silver = LinearRegression()\n",
    "reg_silver.fit(X, y_silver)\n",
    "\n",
    "sklearn_coeff_gold = reg_gold.coef_[0]\n",
    "sklearn_intercept_gold = reg_gold.intercept_\n",
    "\n",
    "sklearn_coeff_silver = reg_silver.coef_[0]\n",
    "sklearn_intercept_silver = reg_silver.intercept_"
   ]
  },
  {
   "cell_type": "code",
   "execution_count": 54,
   "id": "a51c07c2",
   "metadata": {},
   "outputs": [
    {
     "name": "stdout",
     "output_type": "stream",
     "text": [
      "Gold Price Coefficients : -2088699.4840504555 1050.4516651811039\n",
      "Silver Price Coefficients : -2756695.8593576956 1387.5249169435212\n",
      "Predicted Gold Price per gram in 2024 : 3741.4686276098714\n",
      "Predicted Silver Price per gram in 2024 : 51.65457253599167\n",
      "MSE Gold : 52373373.849650644\n",
      "RMSE Gold : 7236.945063329598\n",
      "MSE Silver : 94823571.4622161\n",
      "RMSE Silver : 9737.739545819455\n"
     ]
    }
   ],
   "source": [
    "X_with_bias = np.c_[np.ones((X.shape[0], 1)), X]\n",
    "custom_coeff_gold = np.linalg.inv(X_with_bias.T.dot(X_with_bias)).dot(X_with_bias.T).dot(y_gold)\n",
    "custom_coeff_silver = np.linalg.inv(X_with_bias.T.dot(X_with_bias)).dot(X_with_bias.T).dot(y_silver)\n",
    "\n",
    "year_2024 = np.array([[2024]])\n",
    "predicted_gold_price_sklearn = reg_gold.predict(year_2024)[0]\n",
    "predicted_silver_price_sklearn = reg_silver.predict(year_2024)[0]\n",
    "\n",
    "predicted_gold_price_custom = custom_coeff_gold[0] + custom_coeff_gold[1] * 2024\n",
    "predicted_silver_price_custom = custom_coeff_silver[0] + custom_coeff_silver[1] * 2024\n",
    "\n",
    "y_gold_pred_sklearn = reg_gold.predict(X)\n",
    "y_silver_pred_sklearn = reg_silver.predict(X)\n",
    "\n",
    "mse_gold_sklearn = mean_squared_error(y_gold, y_gold_pred_sklearn)\n",
    "rmse_gold_sklearn = np.sqrt(mse_gold_sklearn)\n",
    "\n",
    "mse_silver_sklearn = mean_squared_error(y_silver, y_silver_pred_sklearn)\n",
    "rmse_silver_sklearn = np.sqrt(mse_silver_sklearn)\n",
    "\n",
    "print(\"Gold Price Coefficients :\", sklearn_intercept_gold, sklearn_coeff_gold)\n",
    "print(\"Silver Price Coefficients :\", sklearn_intercept_silver, sklearn_coeff_silver)\n",
    "\n",
    "print(\"Predicted Gold Price per gram in 2024 :\", predicted_gold_price_sklearn/10)\n",
    "print(\"Predicted Silver Price per gram in 2024 :\", predicted_silver_price_sklearn/1000)\n",
    "\n",
    "print(\"MSE Gold :\", mse_gold_sklearn)\n",
    "print(\"RMSE Gold :\", rmse_gold_sklearn)\n",
    "\n",
    "print(\"MSE Silver :\", mse_silver_sklearn)\n",
    "print(\"RMSE Silver :\", rmse_silver_sklearn)"
   ]
  },
  {
   "cell_type": "code",
   "execution_count": 40,
   "id": "de54f877",
   "metadata": {},
   "outputs": [
    {
     "name": "stdout",
     "output_type": "stream",
     "text": [
      "2001.5 13779.52380952381 20435.261904761905\n",
      "Slope for Gold =  1050.4516651811036\n",
      "Slope for Silver =  1387.5249169435217\n",
      "Intercept =  -4886265.867217676\n",
      "Linear Regression Equation = 1050.4516651811036x1 +1387.5249169435217x2 + -4845395.3434081515\n"
     ]
    },
    {
     "data": {
      "image/png": "[encoded data removed]",
      "text/plain": [
       "<Figure size 432x288 with 1 Axes>"
      ]
     },
     "metadata": {
      "needs_background": "light"
     },
     "output_type": "display_data"
    },
    {
     "name": "stdout",
     "output_type": "stream",
     "text": [
      "Prediction for year 2025:\n",
      "38465.137941279914\n",
      "Prediction for 1 gram = 3846.5137941279913\n"
     ]
    }
   ],
   "source": [
    "# this block of code is just for checking what happens if i take 2 different intercepts\n",
    "x = df2['year']\n",
    "y_gold = df2['goldprice']\n",
    "y_silver = df2['silverprice']\n",
    "n = np.size(x)\n",
    "x_bar = np.mean(x)\n",
    "y_gold_bar = np.mean(y_gold)\n",
    "y_silver_bar = np.mean(y_silver)\n",
    "print(x_bar, y_gold_bar, y_silver_bar)\n",
    "nr_gold = np.sum(x*y_gold) - (n * x_bar * y_gold_bar)\n",
    "nr_silver = np.sum(x*y_silver) - (n * x_bar * y_silver_bar)\n",
    "dr = np.sum(x*x) - (n * x_bar * x_bar)\n",
    "\n",
    "slope_gold = nr_gold/dr\n",
    "slope_silver = nr_silver/dr\n",
    "c_gold = y_gold_bar - slope_gold * x_bar\n",
    "c_silver = y_silver_bar - slope_silver * x_bar\n",
    "print(\"Slope for Gold = \", slope_gold)\n",
    "print(\"Slope for Silver = \", slope_silver)\n",
    "print(\"Intercept = \", c)\n",
    "print(\"Linear Regression Equation = {}x1 +{}x2 + {}\".format(slope_gold, slope_silver, c_gold+c_silver))\n",
    "\n",
    "plt.scatter(x,y_gold, color='r', marker='o', s = 30)\n",
    "plt.scatter(x,y_silver, color='g', marker='o', s = 30)\n",
    "y_pred_gold = slope_gold * x + c_gold\n",
    "y_pred_silver = slope_silver * x + c_silver\n",
    "plt.plot(x, y_pred_gold, color='b', linewidth=3)\n",
    "plt.plot(x, y_pred_silver, color='g', linewidth=3)\n",
    "plt.xlabel('X')\n",
    "plt.ylabel('y')\n",
    "plt.show()\n",
    "print(\"Prediction for year 2025:\")\n",
    "y_2025 = slope_gold * 2025 + c_gold\n",
    "print(y_2025)\n",
    "print(f\"Prediction for 1 gram = {y_2025/10}\")"
   ]
  },
  {
   "cell_type": "code",
   "execution_count": null,
   "id": "9bfe9d3e",
   "metadata": {},
   "outputs": [],
   "source": []
  }
 ],
 "metadata": {
  "kernelspec": {
   "display_name": "Python 3 (ipykernel)",
   "language": "python",
   "name": "python3"
  },
  "language_info": {
   "codemirror_mode": {
    "name": "ipython",
    "version": 3
   },
   "file_extension": ".py",
   "mimetype": "text/x-python",
   "name": "python",
   "nbconvert_exporter": "python",
   "pygments_lexer": "ipython3",
   "version": "3.10.12"
  }
 },
 "nbformat": 4,
 "nbformat_minor": 5
}
